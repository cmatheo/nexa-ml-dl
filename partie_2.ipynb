{
 "cells": [
  {
   "metadata": {},
   "cell_type": "markdown",
   "source": "# Partie 2 : Analyse de Données Tabulaires avec le Machine Learning Traditionnel",
   "id": "e39f1489634d17d1"
  },
  {
   "metadata": {},
   "cell_type": "markdown",
   "source": [
    "## 2.1. Contexte et Objectifs\n",
    "Dans ce module, votre objectif sera de démontrer que pour les données structurées et tabulaires, les algorithmes de ML \"classiques\" sont souvent plus performants et plus simples à mettre en oeuvre que le Deep Learning. Nous allons pivoter vers un cas d'usage de détection de fraude sur les transactions financières, qui introduit le défi crucial des classes fortement déséquilibrées.\n",
    "\n",
    "À la fin de ce module, votre objectif sera de :\n",
    "- Mener une analyse exploratoire de données (EDA) avec Pandas et Seaborn.\n",
    "- Identifier et gérer un problème de déséquilibre de classes.\n",
    "- Entraîner et évaluer un `RandomForestClassifier` de Scikit-learn.\n",
    "- Maîtriser l'interprétation des métriques d'évaluation pertinentes : précision, rappel (recall) et F1-score."
   ],
   "id": "5dc1454a985122e9"
  },
  {
   "metadata": {},
   "cell_type": "markdown",
   "source": [
    "## 2.2. Le Jeu de Données : Détection de Fraude\n",
    "Pourriez-vous utiliser le dataset Credit Card Fraud Detection disponible sur Kaggle? Il contient des transactions anonymisées (`V1` à `V28`) et une variable cible `Class` (1 pour fraude, 0 sinon). Le défi principal est le déséquilibre extrême : moins de 0.2% des transactions sont frauduleuses ."
   ],
   "id": "7a670c7f1d601701"
  },
  {
   "metadata": {},
   "cell_type": "markdown",
   "source": "## 2.3. Étapes d’implémentation",
   "id": "34f5e8bbc1331a75"
  },
  {
   "metadata": {},
   "cell_type": "markdown",
   "source": [
    "### 2.3.1 : Chargement et Analyse Exploratoire (EDA)\n",
    "Commencez par charger les données et explorer leurs caractéristiques (via les Dataframes de pandas, fonction head, info, describe ; via seaborn.countplot). Vous m’afficherez ces différentes valeurs et métriques.\n",
    "\n",
    "Capture d’écran n°5 : Les informations demandées précédemment"
   ],
   "id": "f5229a19c128843"
  },
  {
   "metadata": {},
   "cell_type": "markdown",
   "source": [
    "### 2.3.2 : Préparation des Données\n",
    "Division Entraînement/Test :\n",
    "Maintenant, préparez les données pour le modèle.\n",
    "- Mise à l'échelle : La colonne `Amount` a une échelle très différente des autres. Il est essentiel de la mettre à l'échelle.\n",
    "= Division Entraînement/Test : Séparez les données en veillant à conserver la même proportion de classes dans les deux ensembles (`stratify=y`)."
   ],
   "id": "bd6f387aaaba3b66"
  },
  {
   "metadata": {},
   "cell_type": "markdown",
   "source": [
    "### 2.3.3 : Entraînement du Modèle\n",
    "Votre tâche est maintenant d'entraîner un `RandomForestClassifier`. Pour gérer le déséquilibre, pourriez-vous utiliser le paramètre `class_weight='balanced'` ? Il pénalisera davantage les erreurs sur la classe minoritaire (fraude).\n",
    "\n",
    "Capture d’écran n°5 : Phase d’entraînement en console ou autre"
   ],
   "id": "847c1e366e2de2d7"
  },
  {
   "metadata": {},
   "cell_type": "markdown",
   "source": [
    "### 2.3.4 : Évaluation Rigoureuse\n",
    "Enfin, évaluez le modèle en utilisant les métriques appropriées : matrice de confusion, heatmap (via seaborn), classification_report (via scikit-learn/sklearn)"
   ],
   "id": "e3165125dd82b4a0"
  },
  {
   "metadata": {},
   "cell_type": "markdown",
   "source": [
    "## P2 Questions pour le rapport :\n",
    "1. Expliquez le rôle du paramètre `class_weight='balanced'`. Quelles autres techniques auriez-vous pu utiliser pour gérer le déséquilibre des classes ?\n",
    "2. Quel type d’apprentissage et quel type de problème est-ce ? Argumentez.\n",
    "3. Donnez un exemple de régression lié à ce type de données, mettez un exemple via argumentation et image."
   ],
   "id": "72636d44da3d5df7"
  }
 ],
 "metadata": {
  "kernelspec": {
   "display_name": "Python 3",
   "language": "python",
   "name": "python3"
  },
  "language_info": {
   "codemirror_mode": {
    "name": "ipython",
    "version": 2
   },
   "file_extension": ".py",
   "mimetype": "text/x-python",
   "name": "python",
   "nbconvert_exporter": "python",
   "pygments_lexer": "ipython2",
   "version": "2.7.6"
  }
 },
 "nbformat": 4,
 "nbformat_minor": 5
}
