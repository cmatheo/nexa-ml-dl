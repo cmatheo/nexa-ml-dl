{
 "cells": [
  {
   "metadata": {},
   "cell_type": "markdown",
   "source": "# Partie 1 : Reconnaissance d'Images avec les Réseaux de Neurones Convolutifs (CNN)",
   "id": "85c2d28e9da81f63"
  },
  {
   "metadata": {},
   "cell_type": "markdown",
   "source": [
    "## 1.1. Contexte et Objectifs\n",
    "La première parite vous plonge au coeur de la vision par ordinateur. Les Réseaux de Neurones Convolutifs (CNN) sont la solution élégante aux problèmes de traitement d'image, car ils apprennent une hiérarchie de caractéristiques en préservant l'information spatiale, contrairement aux réseaux de neurones denses classiques.\n",
    "À la fin de ce module, votre objectif sera de :\n",
    "- Maîtriser le pipeline complet d'un projet de classification d'images.\n",
    "- Comprendre le rôle des couches fondamentales d'un CNN : `Conv2D` et `MaxPooling2D`.\n",
    "- Construire, compiler et entraîner un modèle séquentiel simple avec Keras.\n",
    "- Interpréter les métriques de performance et analyser une matrice de confusion."
   ],
   "id": "8f7118b0b8142425"
  },
  {
   "metadata": {
    "ExecuteTime": {
     "end_time": "2025-07-03T13:14:20.714125Z",
     "start_time": "2025-07-03T13:14:20.707191Z"
    }
   },
   "cell_type": "code",
   "source": [
    "# Imports\n",
    "import tensorflow as tf\n",
    "import numpy as np\n",
    "import matplotlib.pyplot as plt"
   ],
   "id": "8ebfda0f566a89a1",
   "outputs": [],
   "execution_count": 10
  },
  {
   "metadata": {},
   "cell_type": "markdown",
   "source": [
    "## 1.2. Le Jeu de Données : CIFAR-10\n",
    "Pour cet exercice, pourriez-vous utiliser le jeu de données CIFAR-10 ? Il s'agit d'un standard pour l'apprentissage des CNNs, contenant 60 000 images couleur de 32x32 pixels réparties en 10 classes (avion, voiture, oiseau, etc.). Il est suffisamment complexe pour être intéressant, mais assez petit pour s'entraîner rapidement sur un GPU de Colab."
   ],
   "id": "a3fc69856530f32"
  },
  {
   "metadata": {},
   "cell_type": "markdown",
   "source": "## 1.3. Étapes d’implémentation",
   "id": "384caba78f6a4a66"
  },
  {
   "metadata": {},
   "cell_type": "markdown",
   "source": [
    "### 1.3.1 : Chargement et Exploration des Données\n",
    "Votre première tâche sera de charger et d'explorer les données. Pourriez-vous commencer par importer les bibliothèques nécessaires et charger le jeu de données CIFAR-10 (datasets.cifar10 via tensorflow.keras) ?\n",
    "\n",
    "Capture d’écran n°1 : Vous montrerez une image du dataset via matplotlib.pyplot"
   ],
   "id": "7d80358b8b115cae"
  },
  {
   "metadata": {
    "ExecuteTime": {
     "end_time": "2025-07-03T13:14:23.438062Z",
     "start_time": "2025-07-03T13:14:20.764421Z"
    }
   },
   "cell_type": "code",
   "source": [
    "# CIFAR-10 depuis Tensorflow\n",
    "from tensorflow.keras.datasets import cifar10\n",
    "\n",
    "(images_train, labels_train), (images_test, labels_test) = cifar10.load_data()"
   ],
   "id": "3c4270a871dc93cb",
   "outputs": [],
   "execution_count": 11
  },
  {
   "metadata": {
    "ExecuteTime": {
     "end_time": "2025-07-03T13:14:23.731739Z",
     "start_time": "2025-07-03T13:14:23.519199Z"
    }
   },
   "cell_type": "code",
   "source": [
    "plt.figure()\n",
    "plt.imshow(images_train[0])\n",
    "plt.colorbar()  # Barre de couleur pour voir l'échelle des valeurs\n",
    "plt.show()"
   ],
   "id": "7809022dbf9876cb",
   "outputs": [],
   "execution_count": null
  },
  {
   "metadata": {},
   "cell_type": "markdown",
   "source": [
    "### 1.3.2 : Prétraitement des Données\n",
    "Maintenant, pourriez-vous préparer les données pour l'entraînement?\n",
    "- Normalisation :\n",
    "  Les valeurs des pixels doivent être ramenées dans l'intervalle [0;1] . La méthode la plus simple est de diviser par 255.0.\n",
    "- Encodage des Labels :\n",
    "  Les labels sont des entiers. Pour une classification multi-classe, il est souvent préférable de les convertir en vecteurs \"one-hot\".\n",
    "Note : Si vous ne faites pas d'encodage one-hot, vous utiliserez `sparse_categorical_crossentropy` comme fonction de perte, ce qui est plus simple et efficace en mémoire."
   ],
   "id": "5d2c6d1b50c44ee0"
  },
  {
   "metadata": {
    "ExecuteTime": {
     "end_time": "2025-07-03T13:14:25.488990Z",
     "start_time": "2025-07-03T13:14:23.780998Z"
    }
   },
   "cell_type": "code",
   "source": [
    "# Ramener les pixels entre 0 et 1 (Normalisation)\n",
    "images_train = images_train / 255.0\n",
    "images_test = images_test / 255.0"
   ],
   "id": "7ce4b2e572fd2071",
   "outputs": [],
   "execution_count": 13
  },
  {
   "metadata": {
    "ExecuteTime": {
     "end_time": "2025-07-03T13:18:34.142915Z",
     "start_time": "2025-07-03T13:18:34.133091Z"
    }
   },
   "cell_type": "code",
   "source": [
    "# Encodage des labels\n",
    "# Catégories CIFAR-10\n",
    "categories_names = ['airplane', 'automobile', 'bird', 'cat', 'deer', 'dog', 'frog', 'horse', 'ship', 'truck']\n",
    "print(f\"Classes: {categories_names}\")\n",
    "\n",
    "# Convert labels to one-hot vectors\n",
    "labels_train_onehot = tf.keras.utils.to_categorical(labels_train, 10)\n",
    "labels_test_onehot = tf.keras.utils.to_categorical(labels_test, 10)\n",
    "\n",
    "print(f\"\\nOriginal label example: {y_train[0]}\")\n",
    "print(f\"One-hot encoded label example: {labels_train_onehot[0]}\")\n",
    "print(f\"One-hot labels shape: {labels_train_onehot.shape}\")"
   ],
   "id": "97a7ef36c8745c6c",
   "outputs": [
    {
     "name": "stdout",
     "output_type": "stream",
     "text": [
      "Classes: ['airplane', 'automobile', 'bird', 'cat', 'deer', 'dog', 'frog', 'horse', 'ship', 'truck']\n",
      "\n",
      "Original label example: [6]\n",
      "One-hot encoded label example: [0. 0. 0. 0. 0. 0. 1. 0. 0. 0.]\n",
      "One-hot labels shape: (50000, 10)\n"
     ]
    }
   ],
   "execution_count": 14
  },
  {
   "metadata": {},
   "cell_type": "markdown",
   "source": [
    "### 1.3.3 : Construction de l'Architecture CNN\n",
    "Le coeur de l'exercice est la construction du modèle. Pourriez-vous construire un modèle séquentiel Keras avec la structure suivante :\n",
    "1. Une base convolutive pour l'extraction de caractéristiques, composée de couches `Conv2D` et `MaxPooling2D` avec une fonction d’activation relu :\n",
    "    1. Couche `Conv2D((filters = 32, kernel_size =(3, 3), input_size =(#TODO à préciser))`\n",
    "    2. Couche `MaxPool2D(pool_size=(2, 2))`\n",
    "    3. Couche `Conv2D((filters = 64,kernel_size=(3, 3), input_size =(#TODO à préciser))`\n",
    "    4. Couche `MaxPool2D(pool_size=(2, 2))`\n",
    "    5. Couche `Conv2D((filters = 64,kernel_size=(3, 3), input_size =(#TODO à préciser))`\n",
    "2. Un classifieur au-dessus, composé de couches Flatten et Dense :\n",
    "    1. Couche Flatten\n",
    "    2. Dense avec 64 neurones\n",
    "    3. Dense avec 10 neurones"
   ],
   "id": "a9ee224222a3b686"
  },
  {
   "metadata": {},
   "cell_type": "markdown",
   "source": [
    "### 1.3.4 : Callbacks, Compilation et Entraînement\n",
    "Avant l'entraînement, il est judicieux de définir des callbacks. Pourriez-vous en configurer deux que sont le `ModelCheckpoint` et le `EarlyStopping` ?\n",
    "Maintenant, compilez et entraînez le modèle\n",
    "Capture d’écran n°2 : Image de l’entraînement (console ou autre)"
   ],
   "id": "419f31832d91f86e"
  },
  {
   "metadata": {},
   "cell_type": "markdown",
   "source": [
    "### 1.3.5 : Évaluation et Analyse\n",
    "Enfin, évaluez la performance de votre modèle (via model.evaluate) ; grace à model.history, mettez dans 1 graphe l’accuracy et la val accuracy, dans un second la loss et la validation loss.\n",
    "Capture d’écran n°3 : Chacun des graphes"
   ],
   "id": "68c1aa5aa9c5eaf5"
  },
  {
   "metadata": {},
   "cell_type": "markdown",
   "source": [
    "### 1.3.6 Matrice de confusion\n",
    "Faites vos recherches sur la matrice de confusion et mettez la en place pour le modèle.\n",
    "Capture d’écran n°4 : Affichage de la matrice de confusion dans la console"
   ],
   "id": "6e3b9cbf67b8d14f"
  },
  {
   "metadata": {},
   "cell_type": "markdown",
   "source": [
    "### 1.3.7 Ouverture : Apprentissage par Transfert (Transfer Learning)\n",
    "Le modèle que vous avez construit est une excellente base, mais pour atteindre des performances de pointe, surtout avec des données limitées, la technique de référence est l'apprentissage par transfert. L'idée est de réutiliser un modèle déjà entraîné sur un immense jeu de données (comme ImageNet) et de l'adapter à notre tâche spécifique.\n",
    "\n",
    "Votre prochaine mission est d'appliquer cette technique.\n",
    "1. Charger un modèle pré-entraîné : Utilisez un modèle comme `MobileNetV2` de `tf.keras.applications`, sans sa couche de classification (`include_top=False`).\n",
    "2. Geler la base convolutive : Rendez les poids du modèle pré-entraîné non entraînables (`base_model.trainable = False`) pour utiliser le modèle comme un extracteur de caractéristiques fixe.\n",
    "3. Ajouter une nouvelle tête de classification : Empilez vos propres couches `Dense` au-dessus de la base gelée.\n",
    "4. Entraîner le nouveau modèle : Seuls les poids de votre tête de classification seront mis à jour."
   ],
   "id": "3fbf3e3477ad1e20"
  },
  {
   "metadata": {},
   "cell_type": "markdown",
   "source": [
    "### 1.3.8 (optionnel mais récompensé) Tensorboard\n",
    "Faites vos recherches pour utiliser Tensorboard avec votre CNN et mettez le en place.\n",
    "\n",
    "Indications :\n",
    "\n",
    "- Ajouter le `Callback` TensorBoard dans votre script d'entraînement.\n",
    "- Lancer l'entraînement pour générer les fichiers de log.\n",
    "- Démarrer TensorBoard depuis un terminal pour visualiser les résultats.\n"
   ],
   "id": "b8c28786f2a34619"
  },
  {
   "metadata": {},
   "cell_type": "markdown",
   "source": [
    "P1 Questions pour le rapport :\n",
    "1. Quel a été le rôle des callbacks `ModelCheckpoint` et `EarlyStopping` ? Ont-ils été utiles pendant votre entraînement ?\n",
    "2. Analysez les courbes d'apprentissage (perte et précision). Votre modèle présente-t-il des signes de sur-apprentissage ou de sous-apprentissage ? Comment la matrice de confusion vous aide-t-elle à comprendre les erreurs du modèle ?\n",
    "3. Quels ont été les principaux défis rencontrés ? Comment pourriez-vous améliorer les performances de ce premier modèle ?\n",
    "4. Comparez les performances (précision, temps d'entraînement) du modèle simple et du modèle basé sur le transfert d'apprentissage. Pourquoi observe-t-on une telle différence ?"
   ],
   "id": "4b28b77c548e6f4c"
  },
  {
   "metadata": {},
   "cell_type": "markdown",
   "source": "# Partie 2 : Analyse de Données Tabulaires avec le Machine Learning Traditionnel",
   "id": "e39f1489634d17d1"
  },
  {
   "metadata": {},
   "cell_type": "markdown",
   "source": [
    "## 2.1. Contexte et Objectifs\n",
    "Dans ce module, votre objectif sera de démontrer que pour les données structurées et tabulaires, les algorithmes de ML \"classiques\" sont souvent plus performants et plus simples à mettre en oeuvre que le Deep Learning. Nous allons pivoter vers un cas d'usage de détection de fraude sur les transactions financières, qui introduit le défi crucial des classes fortement déséquilibrées.\n",
    "\n",
    "À la fin de ce module, votre objectif sera de :\n",
    "- Mener une analyse exploratoire de données (EDA) avec Pandas et Seaborn.\n",
    "- Identifier et gérer un problème de déséquilibre de classes.\n",
    "- Entraîner et évaluer un `RandomForestClassifier` de Scikit-learn.\n",
    "- Maîtriser l'interprétation des métriques d'évaluation pertinentes : précision, rappel (recall) et F1-score."
   ],
   "id": "5dc1454a985122e9"
  },
  {
   "metadata": {},
   "cell_type": "markdown",
   "source": [
    "## 2.2. Le Jeu de Données : Détection de Fraude\n",
    "Pourriez-vous utiliser le dataset Credit Card Fraud Detection disponible sur Kaggle? Il contient des transactions anonymisées (`V1` à `V28`) et une variable cible `Class` (1 pour fraude, 0 sinon). Le défi principal est le déséquilibre extrême : moins de 0.2% des transactions sont frauduleuses ."
   ],
   "id": "7a670c7f1d601701"
  },
  {
   "metadata": {},
   "cell_type": "markdown",
   "source": "## 2.3. Étapes d’implémentation",
   "id": "34f5e8bbc1331a75"
  },
  {
   "metadata": {},
   "cell_type": "markdown",
   "source": [
    "### 2.3.1 : Chargement et Analyse Exploratoire (EDA)\n",
    "Commencez par charger les données et explorer leurs caractéristiques (via les Dataframes de pandas, fonction head, info, describe ; via seaborn.countplot). Vous m’afficherez ces différentes valeurs et métriques.\n",
    "\n",
    "Capture d’écran n°5 : Les informations demandées précédemment"
   ],
   "id": "f5229a19c128843"
  },
  {
   "metadata": {},
   "cell_type": "markdown",
   "source": [
    "### 2.3.2 : Préparation des Données\n",
    "Division Entraînement/Test :\n",
    "Maintenant, préparez les données pour le modèle.\n",
    "- Mise à l'échelle : La colonne `Amount` a une échelle très différente des autres. Il est essentiel de la mettre à l'échelle.\n",
    "= Division Entraînement/Test : Séparez les données en veillant à conserver la même proportion de classes dans les deux ensembles (`stratify=y`)."
   ],
   "id": "bd6f387aaaba3b66"
  },
  {
   "metadata": {},
   "cell_type": "markdown",
   "source": [
    "### 2.3.3 : Entraînement du Modèle\n",
    "Votre tâche est maintenant d'entraîner un `RandomForestClassifier`. Pour gérer le déséquilibre, pourriez-vous utiliser le paramètre `class_weight='balanced'` ? Il pénalisera davantage les erreurs sur la classe minoritaire (fraude).\n",
    "\n",
    "Capture d’écran n°5 : Phase d’entraînement en console ou autre"
   ],
   "id": "847c1e366e2de2d7"
  },
  {
   "metadata": {},
   "cell_type": "markdown",
   "source": [
    "### 2.3.4 : Évaluation Rigoureuse\n",
    "Enfin, évaluez le modèle en utilisant les métriques appropriées : matrice de confusion, heatmap (via seaborn), classification_report (via scikit-learn/sklearn)"
   ],
   "id": "e3165125dd82b4a0"
  }
 ],
 "metadata": {
  "kernelspec": {
   "display_name": "Python 3",
   "language": "python",
   "name": "python3"
  },
  "language_info": {
   "codemirror_mode": {
    "name": "ipython",
    "version": 2
   },
   "file_extension": ".py",
   "mimetype": "text/x-python",
   "name": "python",
   "nbconvert_exporter": "python",
   "pygments_lexer": "ipython2",
   "version": "2.7.6"
  }
 },
 "nbformat": 4,
 "nbformat_minor": 5
}
