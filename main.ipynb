{
 "cells": [
  {
   "metadata": {},
   "cell_type": "markdown",
   "source": "# Partie 1 : Reconnaissance d'Images avec les Réseaux de Neurones Convolutifs (CNN)",
   "id": "85c2d28e9da81f63"
  },
  {
   "metadata": {},
   "cell_type": "markdown",
   "source": [
    "## 1.1. Contexte et Objectifs\n",
    "La première parite vous plonge au coeur de la vision par ordinateur. Les Réseaux de Neurones Convolutifs (CNN) sont la solution élégante aux problèmes de traitement d'image, car ils apprennent une hiérarchie de caractéristiques en préservant l'information spatiale, contrairement aux réseaux de neurones denses classiques.\n",
    "À la fin de ce module, votre objectif sera de :\n",
    "- Maîtriser le pipeline complet d'un projet de classification d'images.\n",
    "- Comprendre le rôle des couches fondamentales d'un CNN : `Conv2D` et `MaxPooling2D`.\n",
    "- Construire, compiler et entraîner un modèle séquentiel simple avec Keras.\n",
    "- Interpréter les métriques de performance et analyser une matrice de confusion."
   ],
   "id": "8f7118b0b8142425"
  },
  {
   "metadata": {
    "ExecuteTime": {
     "end_time": "2025-07-03T13:19:51.791282Z",
     "start_time": "2025-07-03T13:19:46.919705Z"
    }
   },
   "cell_type": "code",
   "source": [
    "# Imports\n",
    "import tensorflow as tf\n",
    "import numpy as np\n",
    "import matplotlib.pyplot as plt"
   ],
   "id": "8ebfda0f566a89a1",
   "outputs": [
    {
     "name": "stderr",
     "output_type": "stream",
     "text": [
      "2025-07-03 15:19:47.196680: I external/local_xla/xla/tsl/cuda/cudart_stub.cc:32] Could not find cuda drivers on your machine, GPU will not be used.\n",
      "2025-07-03 15:19:47.200122: I external/local_xla/xla/tsl/cuda/cudart_stub.cc:32] Could not find cuda drivers on your machine, GPU will not be used.\n",
      "2025-07-03 15:19:47.212950: E external/local_xla/xla/stream_executor/cuda/cuda_fft.cc:467] Unable to register cuFFT factory: Attempting to register factory for plugin cuFFT when one has already been registered\n",
      "WARNING: All log messages before absl::InitializeLog() is called are written to STDERR\n",
      "E0000 00:00:1751548787.231364 2623852 cuda_dnn.cc:8579] Unable to register cuDNN factory: Attempting to register factory for plugin cuDNN when one has already been registered\n",
      "E0000 00:00:1751548787.237491 2623852 cuda_blas.cc:1407] Unable to register cuBLAS factory: Attempting to register factory for plugin cuBLAS when one has already been registered\n",
      "W0000 00:00:1751548787.255660 2623852 computation_placer.cc:177] computation placer already registered. Please check linkage and avoid linking the same target more than once.\n",
      "W0000 00:00:1751548787.255699 2623852 computation_placer.cc:177] computation placer already registered. Please check linkage and avoid linking the same target more than once.\n",
      "W0000 00:00:1751548787.255701 2623852 computation_placer.cc:177] computation placer already registered. Please check linkage and avoid linking the same target more than once.\n",
      "W0000 00:00:1751548787.255704 2623852 computation_placer.cc:177] computation placer already registered. Please check linkage and avoid linking the same target more than once.\n",
      "2025-07-03 15:19:47.262000: I tensorflow/core/platform/cpu_feature_guard.cc:210] This TensorFlow binary is optimized to use available CPU instructions in performance-critical operations.\n",
      "To enable the following instructions: AVX2 FMA, in other operations, rebuild TensorFlow with the appropriate compiler flags.\n"
     ]
    }
   ],
   "execution_count": 1
  },
  {
   "metadata": {},
   "cell_type": "markdown",
   "source": [
    "## 1.2. Le Jeu de Données : CIFAR-10\n",
    "Pour cet exercice, pourriez-vous utiliser le jeu de données CIFAR-10 ? Il s'agit d'un standard pour l'apprentissage des CNNs, contenant 60 000 images couleur de 32x32 pixels réparties en 10 classes (avion, voiture, oiseau, etc.). Il est suffisamment complexe pour être intéressant, mais assez petit pour s'entraîner rapidement sur un GPU de Colab."
   ],
   "id": "a3fc69856530f32"
  },
  {
   "metadata": {},
   "cell_type": "markdown",
   "source": "## 1.3. Étapes d’implémentation",
   "id": "384caba78f6a4a66"
  },
  {
   "metadata": {},
   "cell_type": "markdown",
   "source": [
    "### 1.3.1 : Chargement et Exploration des Données\n",
    "Votre première tâche sera de charger et d'explorer les données. Pourriez-vous commencer par importer les bibliothèques nécessaires et charger le jeu de données CIFAR-10 (datasets.cifar10 via tensorflow.keras) ?\n",
    "\n",
    "Capture d’écran n°1 : Vous montrerez une image du dataset via matplotlib.pyplot"
   ],
   "id": "7d80358b8b115cae"
  },
  {
   "metadata": {
    "ExecuteTime": {
     "end_time": "2025-07-03T13:19:55.635962Z",
     "start_time": "2025-07-03T13:19:52.936288Z"
    }
   },
   "cell_type": "code",
   "source": [
    "# CIFAR-10 depuis Tensorflow\n",
    "from tensorflow.keras.datasets import cifar10\n",
    "\n",
    "(images_train, labels_train), (images_test, labels_test) = cifar10.load_data()"
   ],
   "id": "3c4270a871dc93cb",
   "outputs": [],
   "execution_count": 2
  },
  {
   "metadata": {
    "ExecuteTime": {
     "end_time": "2025-07-03T13:19:55.883061Z",
     "start_time": "2025-07-03T13:19:55.673005Z"
    }
   },
   "cell_type": "code",
   "source": [
    "plt.figure()\n",
    "plt.imshow(images_train[0])\n",
    "plt.colorbar()  # Barre de couleur pour voir l'échelle des valeurs\n",
    "plt.show()"
   ],
   "id": "7809022dbf9876cb",
   "outputs": [
    {
     "data": {
      "text/plain": [
       "<Figure size 640x480 with 2 Axes>"
      ],
      "image/png": "[encoded data removed]"
     },
     "metadata": {},
     "output_type": "display_data"
    }
   ],
   "execution_count": 3
  },
  {
   "metadata": {},
   "cell_type": "markdown",
   "source": [
    "### 1.3.2 : Prétraitement des Données\n",
    "Maintenant, pourriez-vous préparer les données pour l'entraînement?\n",
    "- Normalisation :\n",
    "  Les valeurs des pixels doivent être ramenées dans l'intervalle [0;1] . La méthode la plus simple est de diviser par 255.0.\n",
    "- Encodage des Labels :\n",
    "  Les labels sont des entiers. Pour une classification multi-classe, il est souvent préférable de les convertir en vecteurs \"one-hot\".\n",
    "Note : Si vous ne faites pas d'encodage one-hot, vous utiliserez `sparse_categorical_crossentropy` comme fonction de perte, ce qui est plus simple et efficace en mémoire."
   ],
   "id": "5d2c6d1b50c44ee0"
  },
  {
   "metadata": {
    "ExecuteTime": {
     "end_time": "2025-07-03T13:19:56.336540Z",
     "start_time": "2025-07-03T13:19:55.892132Z"
    }
   },
   "cell_type": "code",
   "source": [
    "# Ramener les pixels entre 0 et 1 (Normalisation)\n",
    "images_train = images_train / 255.0\n",
    "images_test = images_test / 255.0"
   ],
   "id": "7ce4b2e572fd2071",
   "outputs": [],
   "execution_count": 4
  },
  {
   "metadata": {
    "ExecuteTime": {
     "end_time": "2025-07-03T13:20:38.543727Z",
     "start_time": "2025-07-03T13:20:38.538077Z"
    }
   },
   "cell_type": "code",
   "source": [
    "# Encodage des labels\n",
    "# Catégories CIFAR-10\n",
    "categories_names = ['airplane', 'automobile', 'bird', 'cat', 'deer', 'dog', 'frog', 'horse', 'ship', 'truck']\n",
    "print(f\"Classes: {categories_names}\")\n",
    "\n",
    "# Conversion en vecteurs one-hot\n",
    "labels_train_onehot = tf.keras.utils.to_categorical(labels_train, 10)\n",
    "labels_test_onehot = tf.keras.utils.to_categorical(labels_test, 10)"
   ],
   "id": "97a7ef36c8745c6c",
   "outputs": [
    {
     "name": "stdout",
     "output_type": "stream",
     "text": [
      "Classes: ['airplane', 'automobile', 'bird', 'cat', 'deer', 'dog', 'frog', 'horse', 'ship', 'truck']\n"
     ]
    }
   ],
   "execution_count": 6
  },
  {
   "metadata": {},
   "cell_type": "markdown",
   "source": [
    "### 1.3.3 : Construction de l'Architecture CNN\n",
    "Le coeur de l'exercice est la construction du modèle. Pourriez-vous construire un modèle séquentiel Keras avec la structure suivante :\n",
    "1. Une base convolutive pour l'extraction de caractéristiques, composée de couches `Conv2D` et `MaxPooling2D` avec une fonction d’activation relu :\n",
    "    1. Couche `Conv2D((filters = 32, kernel_size =(3, 3), input_size =(#TODO à préciser))`\n",
    "    2. Couche `MaxPool2D(pool_size=(2, 2))`\n",
    "    3. Couche `Conv2D((filters = 64,kernel_size=(3, 3), input_size =(#TODO à préciser))`\n",
    "    4. Couche `MaxPool2D(pool_size=(2, 2))`\n",
    "    5. Couche `Conv2D((filters = 64,kernel_size=(3, 3), input_size =(#TODO à préciser))`\n",
    "2. Un classifieur au-dessus, composé de couches Flatten et Dense :\n",
    "    1. Couche Flatten\n",
    "    2. Dense avec 64 neurones\n",
    "    3. Dense avec 10 neurones"
   ],
   "id": "a9ee224222a3b686"
  },
  {
   "metadata": {
    "ExecuteTime": {
     "end_time": "2025-07-03T13:28:35.638178Z",
     "start_time": "2025-07-03T13:28:35.570109Z"
    }
   },
   "cell_type": "code",
   "source": [
    "model = tf.keras.Sequential([\n",
    "    tf.keras.Input(shape=(32, 32, 3)),\n",
    "    tf.keras.layers.Conv2D(filters=32, kernel_size=(3, 3), activation='relu'),\n",
    "    tf.keras.layers.MaxPool2D(pool_size=(2, 2)),\n",
    "    tf.keras.layers.Conv2D(filters=64, kernel_size=(3, 3), activation='relu'),\n",
    "    tf.keras.layers.MaxPool2D(pool_size=(2, 2)),\n",
    "    tf.keras.layers.Conv2D(filters=64, kernel_size=(3, 3), activation='relu'),\n",
    "    tf.keras.layers.Flatten(),\n",
    "    tf.keras.layers.Dense(64, activation='relu'),\n",
    "    tf.keras.layers.Dense(10, activation='softmax')\n",
    "])"
   ],
   "id": "a34c85d5598c68e4",
   "outputs": [],
   "execution_count": 8
  },
  {
   "metadata": {},
   "cell_type": "markdown",
   "source": [
    "### 1.3.4 : Callbacks, Compilation et Entraînement\n",
    "Avant l'entraînement, il est judicieux de définir des callbacks. Pourriez-vous en configurer deux que sont le `ModelCheckpoint` et le `EarlyStopping` ?\n",
    "Maintenant, compilez et entraînez le modèle\n",
    "\n",
    "Capture d’écran n°2 : Image de l’entraînement (console ou autre)"
   ],
   "id": "2607db9f5de96419"
  },
  {
   "metadata": {
    "ExecuteTime": {
     "end_time": "2025-07-03T13:34:23.582769Z",
     "start_time": "2025-07-03T13:34:20.899105Z"
    }
   },
   "cell_type": "code",
   "source": [
    "# Définition des Callbacks\n",
    "model_checkpoint = tf.keras.callbacks.ModelCheckpoint('./checkpoint.model.keras')\n",
    "early_stopping = tf.keras.callbacks.EarlyStopping(\n",
    "    monitor=\"val_loss\",  # On surveille val_loss\n",
    "    patience=2  # Arrêt si pas d'amélioration pendant 2 époques\n",
    ")\\\n",
    "# Configuration du modèle pour l'entraînement\n",
    "model.compile(\n",
    "    optimizer=tf.keras.optimizers.Adam(),\n",
    "    loss=tf.keras.losses.SparseCategoricalCrossentropy(),\n",
    "    metrics=['accuracy']\n",
    ")\n",
    "\n",
    "# Entraînement du modèle\n",
    "model.fit(images_train,\n",
    "          labels_train_onehot,\n",
    "          epochs=10,  # Maximum 10 passages sur toutes les données\n",
    "          validation_split=0.1,  # 10% des données pour la validation\n",
    "          callbacks=[model_checkpoint, early_stopping])"
   ],
   "id": "9884d7ef0ee1d940",
   "outputs": [
    {
     "name": "stdout",
     "output_type": "stream",
     "text": [
      "Epoch 1/10\n"
     ]
    },
    {
     "name": "stderr",
     "output_type": "stream",
     "text": [
      "2025-07-03 15:34:22.905692: W external/local_xla/xla/tsl/framework/cpu_allocator_impl.cc:83] Allocation of 552960000 exceeds 10% of free system memory.\n"
     ]
    },
    {
     "ename": "ValueError",
     "evalue": "Argument `output` must have rank (ndim) `target.ndim - 1`. Received: target.shape=(None, 10), output.shape=(None, 10)",
     "output_type": "error",
     "traceback": [
      "\u001B[31m---------------------------------------------------------------------------\u001B[39m",
      "\u001B[31mValueError\u001B[39m                                Traceback (most recent call last)",
      "\u001B[36mCell\u001B[39m\u001B[36m \u001B[39m\u001B[32mIn[12]\u001B[39m\u001B[32m, line 15\u001B[39m\n\u001B[32m      8\u001B[39m model.compile(\n\u001B[32m      9\u001B[39m     optimizer=tf.keras.optimizers.Adam(),\n\u001B[32m     10\u001B[39m     loss=tf.keras.losses.SparseCategoricalCrossentropy(),\n\u001B[32m     11\u001B[39m     metrics=[\u001B[33m'\u001B[39m\u001B[33maccuracy\u001B[39m\u001B[33m'\u001B[39m]\n\u001B[32m     12\u001B[39m )\n\u001B[32m     14\u001B[39m \u001B[38;5;66;03m# Entraînement du modèle\u001B[39;00m\n\u001B[32m---> \u001B[39m\u001B[32m15\u001B[39m \u001B[43mmodel\u001B[49m\u001B[43m.\u001B[49m\u001B[43mfit\u001B[49m\u001B[43m(\u001B[49m\u001B[43mimages_train\u001B[49m\u001B[43m,\u001B[49m\n\u001B[32m     16\u001B[39m \u001B[43m          \u001B[49m\u001B[43mlabels_train_onehot\u001B[49m\u001B[43m,\u001B[49m\n\u001B[32m     17\u001B[39m \u001B[43m          \u001B[49m\u001B[43mepochs\u001B[49m\u001B[43m=\u001B[49m\u001B[32;43m10\u001B[39;49m\u001B[43m,\u001B[49m\u001B[43m  \u001B[49m\u001B[38;5;66;43;03m# Maximum 10 passages sur toutes les données\u001B[39;49;00m\n\u001B[32m     18\u001B[39m \u001B[43m          \u001B[49m\u001B[43mvalidation_split\u001B[49m\u001B[43m=\u001B[49m\u001B[32;43m0.1\u001B[39;49m\u001B[43m,\u001B[49m\u001B[43m  \u001B[49m\u001B[38;5;66;43;03m# 10% des données pour la validation\u001B[39;49;00m\n\u001B[32m     19\u001B[39m \u001B[43m          \u001B[49m\u001B[43mcallbacks\u001B[49m\u001B[43m=\u001B[49m\u001B[43m[\u001B[49m\u001B[43mmodel_checkpoint\u001B[49m\u001B[43m,\u001B[49m\u001B[43m \u001B[49m\u001B[43mearly_stopping\u001B[49m\u001B[43m]\u001B[49m\u001B[43m)\u001B[49m\n",
      "\u001B[36mFile \u001B[39m\u001B[32m~/code/nexa-ml-dl/.venv/lib/python3.12/site-packages/keras/src/utils/traceback_utils.py:122\u001B[39m, in \u001B[36mfilter_traceback.<locals>.error_handler\u001B[39m\u001B[34m(*args, **kwargs)\u001B[39m\n\u001B[32m    119\u001B[39m     filtered_tb = _process_traceback_frames(e.__traceback__)\n\u001B[32m    120\u001B[39m     \u001B[38;5;66;03m# To get the full stack trace, call:\u001B[39;00m\n\u001B[32m    121\u001B[39m     \u001B[38;5;66;03m# `keras.config.disable_traceback_filtering()`\u001B[39;00m\n\u001B[32m--> \u001B[39m\u001B[32m122\u001B[39m     \u001B[38;5;28;01mraise\u001B[39;00m e.with_traceback(filtered_tb) \u001B[38;5;28;01mfrom\u001B[39;00m\u001B[38;5;250m \u001B[39m\u001B[38;5;28;01mNone\u001B[39;00m\n\u001B[32m    123\u001B[39m \u001B[38;5;28;01mfinally\u001B[39;00m:\n\u001B[32m    124\u001B[39m     \u001B[38;5;28;01mdel\u001B[39;00m filtered_tb\n",
      "\u001B[36mFile \u001B[39m\u001B[32m~/code/nexa-ml-dl/.venv/lib/python3.12/site-packages/keras/src/backend/tensorflow/nn.py:734\u001B[39m, in \u001B[36msparse_categorical_crossentropy\u001B[39m\u001B[34m(target, output, from_logits, axis)\u001B[39m\n\u001B[32m    728\u001B[39m     \u001B[38;5;28;01mraise\u001B[39;00m \u001B[38;5;167;01mValueError\u001B[39;00m(\n\u001B[32m    729\u001B[39m         \u001B[33m\"\u001B[39m\u001B[33mArgument `output` must be at least rank 1. \u001B[39m\u001B[33m\"\u001B[39m\n\u001B[32m    730\u001B[39m         \u001B[33m\"\u001B[39m\u001B[33mReceived: \u001B[39m\u001B[33m\"\u001B[39m\n\u001B[32m    731\u001B[39m         \u001B[33mf\u001B[39m\u001B[33m\"\u001B[39m\u001B[33moutput.shape=\u001B[39m\u001B[38;5;132;01m{\u001B[39;00moutput.shape\u001B[38;5;132;01m}\u001B[39;00m\u001B[33m\"\u001B[39m\n\u001B[32m    732\u001B[39m     )\n\u001B[32m    733\u001B[39m \u001B[38;5;28;01mif\u001B[39;00m \u001B[38;5;28mlen\u001B[39m(target.shape) != \u001B[38;5;28mlen\u001B[39m(output.shape[:-\u001B[32m1\u001B[39m]):\n\u001B[32m--> \u001B[39m\u001B[32m734\u001B[39m     \u001B[38;5;28;01mraise\u001B[39;00m \u001B[38;5;167;01mValueError\u001B[39;00m(\n\u001B[32m    735\u001B[39m         \u001B[33m\"\u001B[39m\u001B[33mArgument `output` must have rank (ndim) `target.ndim - 1`. \u001B[39m\u001B[33m\"\u001B[39m\n\u001B[32m    736\u001B[39m         \u001B[33m\"\u001B[39m\u001B[33mReceived: \u001B[39m\u001B[33m\"\u001B[39m\n\u001B[32m    737\u001B[39m         \u001B[33mf\u001B[39m\u001B[33m\"\u001B[39m\u001B[33mtarget.shape=\u001B[39m\u001B[38;5;132;01m{\u001B[39;00mtarget.shape\u001B[38;5;132;01m}\u001B[39;00m\u001B[33m, output.shape=\u001B[39m\u001B[38;5;132;01m{\u001B[39;00moutput.shape\u001B[38;5;132;01m}\u001B[39;00m\u001B[33m\"\u001B[39m\n\u001B[32m    738\u001B[39m     )\n\u001B[32m    739\u001B[39m \u001B[38;5;28;01mfor\u001B[39;00m e1, e2 \u001B[38;5;129;01min\u001B[39;00m \u001B[38;5;28mzip\u001B[39m(target.shape, output.shape[:-\u001B[32m1\u001B[39m]):\n\u001B[32m    740\u001B[39m     \u001B[38;5;28;01mif\u001B[39;00m e1 \u001B[38;5;129;01mis\u001B[39;00m \u001B[38;5;129;01mnot\u001B[39;00m \u001B[38;5;28;01mNone\u001B[39;00m \u001B[38;5;129;01mand\u001B[39;00m e2 \u001B[38;5;129;01mis\u001B[39;00m \u001B[38;5;129;01mnot\u001B[39;00m \u001B[38;5;28;01mNone\u001B[39;00m \u001B[38;5;129;01mand\u001B[39;00m e1 != e2:\n",
      "\u001B[31mValueError\u001B[39m: Argument `output` must have rank (ndim) `target.ndim - 1`. Received: target.shape=(None, 10), output.shape=(None, 10)"
     ]
    }
   ],
   "execution_count": 12
  },
  {
   "metadata": {},
   "cell_type": "markdown",
   "source": [
    "### 1.3.5 : Évaluation et Analyse\n",
    "Enfin, évaluez la performance de votre modèle (via model.evaluate) ; grace à model.history, mettez dans 1 graphe l’accuracy et la val accuracy, dans un second la loss et la validation loss.\n",
    "Capture d’écran n°3 : Chacun des graphes"
   ],
   "id": "fd2fb0dcdced25c2"
  },
  {
   "metadata": {},
   "cell_type": "code",
   "outputs": [],
   "execution_count": null,
   "source": "",
   "id": "a8bd12fd3945d9c3"
  },
  {
   "metadata": {},
   "cell_type": "markdown",
   "source": [
    "### 1.3.6 Matrice de confusion\n",
    "Faites vos recherches sur la matrice de confusion et mettez la en place pour le modèle.\n",
    "Capture d’écran n°4 : Affichage de la matrice de confusion dans la console"
   ],
   "id": "6e3b9cbf67b8d14f"
  },
  {
   "metadata": {},
   "cell_type": "markdown",
   "source": [
    "### 1.3.7 Ouverture : Apprentissage par Transfert (Transfer Learning)\n",
    "Le modèle que vous avez construit est une excellente base, mais pour atteindre des performances de pointe, surtout avec des données limitées, la technique de référence est l'apprentissage par transfert. L'idée est de réutiliser un modèle déjà entraîné sur un immense jeu de données (comme ImageNet) et de l'adapter à notre tâche spécifique.\n",
    "\n",
    "Votre prochaine mission est d'appliquer cette technique.\n",
    "1. Charger un modèle pré-entraîné : Utilisez un modèle comme `MobileNetV2` de `tf.keras.applications`, sans sa couche de classification (`include_top=False`).\n",
    "2. Geler la base convolutive : Rendez les poids du modèle pré-entraîné non entraînables (`base_model.trainable = False`) pour utiliser le modèle comme un extracteur de caractéristiques fixe.\n",
    "3. Ajouter une nouvelle tête de classification : Empilez vos propres couches `Dense` au-dessus de la base gelée.\n",
    "4. Entraîner le nouveau modèle : Seuls les poids de votre tête de classification seront mis à jour."
   ],
   "id": "3fbf3e3477ad1e20"
  },
  {
   "metadata": {},
   "cell_type": "markdown",
   "source": [
    "### 1.3.8 (optionnel mais récompensé) Tensorboard\n",
    "Faites vos recherches pour utiliser Tensorboard avec votre CNN et mettez le en place.\n",
    "\n",
    "Indications :\n",
    "\n",
    "- Ajouter le `Callback` TensorBoard dans votre script d'entraînement.\n",
    "- Lancer l'entraînement pour générer les fichiers de log.\n",
    "- Démarrer TensorBoard depuis un terminal pour visualiser les résultats.\n"
   ],
   "id": "b8c28786f2a34619"
  },
  {
   "metadata": {},
   "cell_type": "markdown",
   "source": [
    "P1 Questions pour le rapport :\n",
    "1. Quel a été le rôle des callbacks `ModelCheckpoint` et `EarlyStopping` ? Ont-ils été utiles pendant votre entraînement ?\n",
    "2. Analysez les courbes d'apprentissage (perte et précision). Votre modèle présente-t-il des signes de sur-apprentissage ou de sous-apprentissage ? Comment la matrice de confusion vous aide-t-elle à comprendre les erreurs du modèle ?\n",
    "3. Quels ont été les principaux défis rencontrés ? Comment pourriez-vous améliorer les performances de ce premier modèle ?\n",
    "4. Comparez les performances (précision, temps d'entraînement) du modèle simple et du modèle basé sur le transfert d'apprentissage. Pourquoi observe-t-on une telle différence ?"
   ],
   "id": "4b28b77c548e6f4c"
  },
  {
   "metadata": {},
   "cell_type": "markdown",
   "source": "# Partie 2 : Analyse de Données Tabulaires avec le Machine Learning Traditionnel",
   "id": "e39f1489634d17d1"
  },
  {
   "metadata": {},
   "cell_type": "markdown",
   "source": [
    "## 2.1. Contexte et Objectifs\n",
    "Dans ce module, votre objectif sera de démontrer que pour les données structurées et tabulaires, les algorithmes de ML \"classiques\" sont souvent plus performants et plus simples à mettre en oeuvre que le Deep Learning. Nous allons pivoter vers un cas d'usage de détection de fraude sur les transactions financières, qui introduit le défi crucial des classes fortement déséquilibrées.\n",
    "\n",
    "À la fin de ce module, votre objectif sera de :\n",
    "- Mener une analyse exploratoire de données (EDA) avec Pandas et Seaborn.\n",
    "- Identifier et gérer un problème de déséquilibre de classes.\n",
    "- Entraîner et évaluer un `RandomForestClassifier` de Scikit-learn.\n",
    "- Maîtriser l'interprétation des métriques d'évaluation pertinentes : précision, rappel (recall) et F1-score."
   ],
   "id": "5dc1454a985122e9"
  },
  {
   "metadata": {},
   "cell_type": "markdown",
   "source": [
    "## 2.2. Le Jeu de Données : Détection de Fraude\n",
    "Pourriez-vous utiliser le dataset Credit Card Fraud Detection disponible sur Kaggle? Il contient des transactions anonymisées (`V1` à `V28`) et une variable cible `Class` (1 pour fraude, 0 sinon). Le défi principal est le déséquilibre extrême : moins de 0.2% des transactions sont frauduleuses ."
   ],
   "id": "7a670c7f1d601701"
  },
  {
   "metadata": {},
   "cell_type": "markdown",
   "source": "## 2.3. Étapes d’implémentation",
   "id": "34f5e8bbc1331a75"
  },
  {
   "metadata": {},
   "cell_type": "markdown",
   "source": [
    "### 2.3.1 : Chargement et Analyse Exploratoire (EDA)\n",
    "Commencez par charger les données et explorer leurs caractéristiques (via les Dataframes de pandas, fonction head, info, describe ; via seaborn.countplot). Vous m’afficherez ces différentes valeurs et métriques.\n",
    "\n",
    "Capture d’écran n°5 : Les informations demandées précédemment"
   ],
   "id": "f5229a19c128843"
  },
  {
   "metadata": {},
   "cell_type": "markdown",
   "source": [
    "### 2.3.2 : Préparation des Données\n",
    "Division Entraînement/Test :\n",
    "Maintenant, préparez les données pour le modèle.\n",
    "- Mise à l'échelle : La colonne `Amount` a une échelle très différente des autres. Il est essentiel de la mettre à l'échelle.\n",
    "= Division Entraînement/Test : Séparez les données en veillant à conserver la même proportion de classes dans les deux ensembles (`stratify=y`)."
   ],
   "id": "bd6f387aaaba3b66"
  },
  {
   "metadata": {},
   "cell_type": "markdown",
   "source": [
    "### 2.3.3 : Entraînement du Modèle\n",
    "Votre tâche est maintenant d'entraîner un `RandomForestClassifier`. Pour gérer le déséquilibre, pourriez-vous utiliser le paramètre `class_weight='balanced'` ? Il pénalisera davantage les erreurs sur la classe minoritaire (fraude).\n",
    "\n",
    "Capture d’écran n°5 : Phase d’entraînement en console ou autre"
   ],
   "id": "847c1e366e2de2d7"
  },
  {
   "metadata": {},
   "cell_type": "markdown",
   "source": [
    "### 2.3.4 : Évaluation Rigoureuse\n",
    "Enfin, évaluez le modèle en utilisant les métriques appropriées : matrice de confusion, heatmap (via seaborn), classification_report (via scikit-learn/sklearn)"
   ],
   "id": "e3165125dd82b4a0"
  }
 ],
 "metadata": {
  "kernelspec": {
   "display_name": "Python 3",
   "language": "python",
   "name": "python3"
  },
  "language_info": {
   "codemirror_mode": {
    "name": "ipython",
    "version": 2
   },
   "file_extension": ".py",
   "mimetype": "text/x-python",
   "name": "python",
   "nbconvert_exporter": "python",
   "pygments_lexer": "ipython2",
   "version": "2.7.6"
  }
 },
 "nbformat": 4,
 "nbformat_minor": 5
}
